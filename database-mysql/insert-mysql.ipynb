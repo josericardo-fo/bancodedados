{
 "cells": [
  {
   "cell_type": "markdown",
   "metadata": {},
   "source": [
    "# **Biblioteca**"
   ]
  },
  {
   "cell_type": "code",
   "execution_count": 3,
   "metadata": {},
   "outputs": [
    {
     "name": "stdout",
     "output_type": "stream",
     "text": [
      "Requirement already satisfied: pymysql in c:\\users\\samsung\\appdata\\local\\programs\\python\\python312\\lib\\site-packages (1.1.1)\n",
      "Requirement already satisfied: sqlalchemy in c:\\users\\samsung\\appdata\\local\\programs\\python\\python312\\lib\\site-packages (2.0.31)\n",
      "Requirement already satisfied: typing-extensions>=4.6.0 in c:\\users\\samsung\\appdata\\local\\programs\\python\\python312\\lib\\site-packages (from sqlalchemy) (4.12.2)\n",
      "Requirement already satisfied: greenlet!=0.4.17 in c:\\users\\samsung\\appdata\\local\\programs\\python\\python312\\lib\\site-packages (from sqlalchemy) (3.0.3)\n",
      "Note: you may need to restart the kernel to use updated packages.\n"
     ]
    },
    {
     "name": "stderr",
     "output_type": "stream",
     "text": [
      "\n",
      "[notice] A new release of pip is available: 24.0 -> 24.2\n",
      "[notice] To update, run: python.exe -m pip install --upgrade pip\n"
     ]
    }
   ],
   "source": [
    "%pip install pymysql sqlalchemy"
   ]
  },
  {
   "cell_type": "code",
   "execution_count": 4,
   "metadata": {},
   "outputs": [],
   "source": [
    "import pandas as pd\n",
    "import pymysql\n",
    "from sqlalchemy import create_engine"
   ]
  },
  {
   "cell_type": "markdown",
   "metadata": {},
   "source": [
    "# **Dados**\n",
    "Aqui, vamos importar nossos dados sintéticos gerados para prepará-los para inserção."
   ]
  },
  {
   "cell_type": "code",
   "execution_count": 8,
   "metadata": {},
   "outputs": [
    {
     "data": {
      "text/html": [
       "<div>\n",
       "<style scoped>\n",
       "    .dataframe tbody tr th:only-of-type {\n",
       "        vertical-align: middle;\n",
       "    }\n",
       "\n",
       "    .dataframe tbody tr th {\n",
       "        vertical-align: top;\n",
       "    }\n",
       "\n",
       "    .dataframe thead th {\n",
       "        text-align: right;\n",
       "    }\n",
       "</style>\n",
       "<table border=\"1\" class=\"dataframe\">\n",
       "  <thead>\n",
       "    <tr style=\"text-align: right;\">\n",
       "      <th></th>\n",
       "      <th>CNPJ</th>\n",
       "      <th>nome</th>\n",
       "      <th>cidade</th>\n",
       "      <th>CEP</th>\n",
       "      <th>endereco</th>\n",
       "    </tr>\n",
       "  </thead>\n",
       "  <tbody>\n",
       "    <tr>\n",
       "      <th>0</th>\n",
       "      <td>40.678.125/0001-90</td>\n",
       "      <td>Cirino - EI</td>\n",
       "      <td>Mendonça</td>\n",
       "      <td>69366727</td>\n",
       "      <td>Distrito de Macedo\\r\\nFlavio De Oliveira\\r\\n93...</td>\n",
       "    </tr>\n",
       "    <tr>\n",
       "      <th>1</th>\n",
       "      <td>56.807.243/0001-90</td>\n",
       "      <td>Correia Ferreira S.A.</td>\n",
       "      <td>Siqueira</td>\n",
       "      <td>67561478</td>\n",
       "      <td>Vereda das Neves, 1\\r\\nDom Cabral\\r\\n18906-865...</td>\n",
       "    </tr>\n",
       "    <tr>\n",
       "      <th>2</th>\n",
       "      <td>84.105.937/0001-11</td>\n",
       "      <td>Cavalcante - EI</td>\n",
       "      <td>da Paz</td>\n",
       "      <td>43829764</td>\n",
       "      <td>Via de Araújo, 65\\r\\nSão Francisco Das Chagas\\...</td>\n",
       "    </tr>\n",
       "    <tr>\n",
       "      <th>3</th>\n",
       "      <td>58.143.920/0001-49</td>\n",
       "      <td>Cardoso Oliveira - EI</td>\n",
       "      <td>Costa</td>\n",
       "      <td>21114341</td>\n",
       "      <td>Distrito Yasmin Sampaio, 31\\r\\nFloresta\\r\\n812...</td>\n",
       "    </tr>\n",
       "    <tr>\n",
       "      <th>4</th>\n",
       "      <td>40.392.758/0001-37</td>\n",
       "      <td>das Neves</td>\n",
       "      <td>Fonseca</td>\n",
       "      <td>20995635</td>\n",
       "      <td>Feira Almeida, 6\\r\\nVila Copacabana\\r\\n20662-6...</td>\n",
       "    </tr>\n",
       "  </tbody>\n",
       "</table>\n",
       "</div>"
      ],
      "text/plain": [
       "                 CNPJ                   nome    cidade       CEP  \\\n",
       "0  40.678.125/0001-90            Cirino - EI  Mendonça  69366727   \n",
       "1  56.807.243/0001-90  Correia Ferreira S.A.  Siqueira  67561478   \n",
       "2  84.105.937/0001-11        Cavalcante - EI    da Paz  43829764   \n",
       "3  58.143.920/0001-49  Cardoso Oliveira - EI     Costa  21114341   \n",
       "4  40.392.758/0001-37              das Neves   Fonseca  20995635   \n",
       "\n",
       "                                            endereco  \n",
       "0  Distrito de Macedo\\r\\nFlavio De Oliveira\\r\\n93...  \n",
       "1  Vereda das Neves, 1\\r\\nDom Cabral\\r\\n18906-865...  \n",
       "2  Via de Araújo, 65\\r\\nSão Francisco Das Chagas\\...  \n",
       "3  Distrito Yasmin Sampaio, 31\\r\\nFloresta\\r\\n812...  \n",
       "4  Feira Almeida, 6\\r\\nVila Copacabana\\r\\n20662-6...  "
      ]
     },
     "execution_count": 8,
     "metadata": {},
     "output_type": "execute_result"
    }
   ],
   "source": [
    "hospital = pd.read_csv(\"../datas/mysql/Hospitais.csv\")\n",
    "hospital.head()"
   ]
  },
  {
   "cell_type": "code",
   "execution_count": 7,
   "metadata": {},
   "outputs": [
    {
     "data": {
      "text/html": [
       "<div>\n",
       "<style scoped>\n",
       "    .dataframe tbody tr th:only-of-type {\n",
       "        vertical-align: middle;\n",
       "    }\n",
       "\n",
       "    .dataframe tbody tr th {\n",
       "        vertical-align: top;\n",
       "    }\n",
       "\n",
       "    .dataframe thead th {\n",
       "        text-align: right;\n",
       "    }\n",
       "</style>\n",
       "<table border=\"1\" class=\"dataframe\">\n",
       "  <thead>\n",
       "    <tr style=\"text-align: right;\">\n",
       "      <th></th>\n",
       "      <th>CPF</th>\n",
       "      <th>nome</th>\n",
       "      <th>data_nascimento</th>\n",
       "      <th>telefone</th>\n",
       "      <th>endereco</th>\n",
       "      <th>plano</th>\n",
       "    </tr>\n",
       "  </thead>\n",
       "  <tbody>\n",
       "    <tr>\n",
       "      <th>0</th>\n",
       "      <td>325.894.716-37</td>\n",
       "      <td>Gael da Costa</td>\n",
       "      <td>1931-09-08</td>\n",
       "      <td>+55 54 91950-1181</td>\n",
       "      <td>Lago Luiz Gustavo Nunes, 34\\r\\nConjunto Jatoba...</td>\n",
       "      <td>Bradesco Saude</td>\n",
       "    </tr>\n",
       "    <tr>\n",
       "      <th>1</th>\n",
       "      <td>041.985.732-04</td>\n",
       "      <td>Eduardo Sales</td>\n",
       "      <td>1927-04-08</td>\n",
       "      <td>+55 83 91948-3693</td>\n",
       "      <td>Jardim de Gonçalves, 90\\r\\nSanto André\\r\\n5129...</td>\n",
       "      <td>Bradesco Saude</td>\n",
       "    </tr>\n",
       "    <tr>\n",
       "      <th>2</th>\n",
       "      <td>051.387.692-86</td>\n",
       "      <td>Manuela Mendes</td>\n",
       "      <td>1982-01-25</td>\n",
       "      <td>+55 42 91973-5813</td>\n",
       "      <td>Chácara Freitas, 4\\r\\nCoqueiros\\r\\n18613-593 C...</td>\n",
       "      <td>Sul America</td>\n",
       "    </tr>\n",
       "    <tr>\n",
       "      <th>3</th>\n",
       "      <td>574.201.863-08</td>\n",
       "      <td>Bruno Alves</td>\n",
       "      <td>1956-07-15</td>\n",
       "      <td>+55 31 91923-9299</td>\n",
       "      <td>Fazenda Pastor, 8\\r\\nVista Alegre\\r\\n70278-795...</td>\n",
       "      <td>Bradesco Saude</td>\n",
       "    </tr>\n",
       "    <tr>\n",
       "      <th>4</th>\n",
       "      <td>249.703.651-99</td>\n",
       "      <td>Diogo Lima</td>\n",
       "      <td>1962-04-15</td>\n",
       "      <td>+55 43 91951-2842</td>\n",
       "      <td>Vila de Gonçalves\\r\\nConjunto Paulo Vi\\r\\n7201...</td>\n",
       "      <td>Bradesco Saude</td>\n",
       "    </tr>\n",
       "  </tbody>\n",
       "</table>\n",
       "</div>"
      ],
      "text/plain": [
       "              CPF            nome data_nascimento           telefone  \\\n",
       "0  325.894.716-37   Gael da Costa      1931-09-08  +55 54 91950-1181   \n",
       "1  041.985.732-04   Eduardo Sales      1927-04-08  +55 83 91948-3693   \n",
       "2  051.387.692-86  Manuela Mendes      1982-01-25  +55 42 91973-5813   \n",
       "3  574.201.863-08     Bruno Alves      1956-07-15  +55 31 91923-9299   \n",
       "4  249.703.651-99      Diogo Lima      1962-04-15  +55 43 91951-2842   \n",
       "\n",
       "                                            endereco           plano  \n",
       "0  Lago Luiz Gustavo Nunes, 34\\r\\nConjunto Jatoba...  Bradesco Saude  \n",
       "1  Jardim de Gonçalves, 90\\r\\nSanto André\\r\\n5129...  Bradesco Saude  \n",
       "2  Chácara Freitas, 4\\r\\nCoqueiros\\r\\n18613-593 C...     Sul America  \n",
       "3  Fazenda Pastor, 8\\r\\nVista Alegre\\r\\n70278-795...  Bradesco Saude  \n",
       "4  Vila de Gonçalves\\r\\nConjunto Paulo Vi\\r\\n7201...  Bradesco Saude  "
      ]
     },
     "execution_count": 7,
     "metadata": {},
     "output_type": "execute_result"
    }
   ],
   "source": [
    "paciente = pd.read_csv(\"../datas/mysql/Pacientes.csv\")\n",
    "paciente.head()"
   ]
  },
  {
   "cell_type": "code",
   "execution_count": 9,
   "metadata": {},
   "outputs": [
    {
     "data": {
      "text/html": [
       "<div>\n",
       "<style scoped>\n",
       "    .dataframe tbody tr th:only-of-type {\n",
       "        vertical-align: middle;\n",
       "    }\n",
       "\n",
       "    .dataframe tbody tr th {\n",
       "        vertical-align: top;\n",
       "    }\n",
       "\n",
       "    .dataframe thead th {\n",
       "        text-align: right;\n",
       "    }\n",
       "</style>\n",
       "<table border=\"1\" class=\"dataframe\">\n",
       "  <thead>\n",
       "    <tr style=\"text-align: right;\">\n",
       "      <th></th>\n",
       "      <th>CRM</th>\n",
       "      <th>nome</th>\n",
       "      <th>CPF</th>\n",
       "      <th>especialidade</th>\n",
       "      <th>telefone</th>\n",
       "      <th>email</th>\n",
       "    </tr>\n",
       "  </thead>\n",
       "  <tbody>\n",
       "    <tr>\n",
       "      <th>0</th>\n",
       "      <td>5757738</td>\n",
       "      <td>Valentina Carvalho</td>\n",
       "      <td>752.860.391-03</td>\n",
       "      <td>Ginecologia</td>\n",
       "      <td>+55 31 91999-9829</td>\n",
       "      <td>wmacedo@example.com</td>\n",
       "    </tr>\n",
       "    <tr>\n",
       "      <th>1</th>\n",
       "      <td>1650946</td>\n",
       "      <td>Fernando Machado</td>\n",
       "      <td>293.745.018-05</td>\n",
       "      <td>Cardiologia</td>\n",
       "      <td>+55 82 91915-0831</td>\n",
       "      <td>isaquepeixoto@example.com</td>\n",
       "    </tr>\n",
       "    <tr>\n",
       "      <th>2</th>\n",
       "      <td>1396254</td>\n",
       "      <td>Thiago Carvalho</td>\n",
       "      <td>184.952.603-60</td>\n",
       "      <td>Ginecologia</td>\n",
       "      <td>+55 48 91994-3428</td>\n",
       "      <td>mouradavi-lucca@example.net</td>\n",
       "    </tr>\n",
       "    <tr>\n",
       "      <th>3</th>\n",
       "      <td>5122239</td>\n",
       "      <td>Yuri Sampaio</td>\n",
       "      <td>613.059.847-57</td>\n",
       "      <td>Obstetricia</td>\n",
       "      <td>+55 31 91951-4680</td>\n",
       "      <td>vgoncalves@example.com</td>\n",
       "    </tr>\n",
       "    <tr>\n",
       "      <th>4</th>\n",
       "      <td>3960525</td>\n",
       "      <td>Luiz Miguel Câmara</td>\n",
       "      <td>734.268.051-62</td>\n",
       "      <td>Obstetricia</td>\n",
       "      <td>+55 37 91980-2350</td>\n",
       "      <td>lpacheco@example.org</td>\n",
       "    </tr>\n",
       "  </tbody>\n",
       "</table>\n",
       "</div>"
      ],
      "text/plain": [
       "       CRM                nome             CPF especialidade  \\\n",
       "0  5757738  Valentina Carvalho  752.860.391-03   Ginecologia   \n",
       "1  1650946    Fernando Machado  293.745.018-05   Cardiologia   \n",
       "2  1396254     Thiago Carvalho  184.952.603-60   Ginecologia   \n",
       "3  5122239        Yuri Sampaio  613.059.847-57   Obstetricia   \n",
       "4  3960525  Luiz Miguel Câmara  734.268.051-62   Obstetricia   \n",
       "\n",
       "            telefone                        email  \n",
       "0  +55 31 91999-9829          wmacedo@example.com  \n",
       "1  +55 82 91915-0831    isaquepeixoto@example.com  \n",
       "2  +55 48 91994-3428  mouradavi-lucca@example.net  \n",
       "3  +55 31 91951-4680       vgoncalves@example.com  \n",
       "4  +55 37 91980-2350         lpacheco@example.org  "
      ]
     },
     "execution_count": 9,
     "metadata": {},
     "output_type": "execute_result"
    }
   ],
   "source": [
    "medico = pd.read_csv(\"../datas/mysql/Medicos.csv\")\n",
    "medico.head()"
   ]
  },
  {
   "cell_type": "code",
   "execution_count": 11,
   "metadata": {},
   "outputs": [
    {
     "data": {
      "text/html": [
       "<div>\n",
       "<style scoped>\n",
       "    .dataframe tbody tr th:only-of-type {\n",
       "        vertical-align: middle;\n",
       "    }\n",
       "\n",
       "    .dataframe tbody tr th {\n",
       "        vertical-align: top;\n",
       "    }\n",
       "\n",
       "    .dataframe thead th {\n",
       "        text-align: right;\n",
       "    }\n",
       "</style>\n",
       "<table border=\"1\" class=\"dataframe\">\n",
       "  <thead>\n",
       "    <tr style=\"text-align: right;\">\n",
       "      <th></th>\n",
       "      <th>id_medico</th>\n",
       "      <th>id_hospital</th>\n",
       "      <th>dia_semana</th>\n",
       "      <th>hr_inicio</th>\n",
       "      <th>hr_fim</th>\n",
       "    </tr>\n",
       "  </thead>\n",
       "  <tbody>\n",
       "    <tr>\n",
       "      <th>0</th>\n",
       "      <td>5757738</td>\n",
       "      <td>42.716.935/0001-19</td>\n",
       "      <td>segunda</td>\n",
       "      <td>16:00:00</td>\n",
       "      <td>17:00:00</td>\n",
       "    </tr>\n",
       "    <tr>\n",
       "      <th>1</th>\n",
       "      <td>5757738</td>\n",
       "      <td>49.170.538/0001-33</td>\n",
       "      <td>domingo</td>\n",
       "      <td>11:00:00</td>\n",
       "      <td>12:00:00</td>\n",
       "    </tr>\n",
       "    <tr>\n",
       "      <th>2</th>\n",
       "      <td>5757738</td>\n",
       "      <td>49.170.538/0001-33</td>\n",
       "      <td>terca</td>\n",
       "      <td>14:00:00</td>\n",
       "      <td>15:00:00</td>\n",
       "    </tr>\n",
       "    <tr>\n",
       "      <th>3</th>\n",
       "      <td>5757738</td>\n",
       "      <td>49.170.538/0001-33</td>\n",
       "      <td>domingo</td>\n",
       "      <td>08:00:00</td>\n",
       "      <td>09:00:00</td>\n",
       "    </tr>\n",
       "    <tr>\n",
       "      <th>4</th>\n",
       "      <td>5757738</td>\n",
       "      <td>49.170.538/0001-33</td>\n",
       "      <td>sexta</td>\n",
       "      <td>17:00:00</td>\n",
       "      <td>18:00:00</td>\n",
       "    </tr>\n",
       "  </tbody>\n",
       "</table>\n",
       "</div>"
      ],
      "text/plain": [
       "   id_medico         id_hospital dia_semana hr_inicio    hr_fim\n",
       "0    5757738  42.716.935/0001-19    segunda  16:00:00  17:00:00\n",
       "1    5757738  49.170.538/0001-33    domingo  11:00:00  12:00:00\n",
       "2    5757738  49.170.538/0001-33      terca  14:00:00  15:00:00\n",
       "3    5757738  49.170.538/0001-33    domingo  08:00:00  09:00:00\n",
       "4    5757738  49.170.538/0001-33      sexta  17:00:00  18:00:00"
      ]
     },
     "execution_count": 11,
     "metadata": {},
     "output_type": "execute_result"
    }
   ],
   "source": [
    "disponibilidade = pd.read_csv(\"../datas/mysql/Disponibilidades.csv\")\n",
    "disponibilidade.head()"
   ]
  },
  {
   "cell_type": "code",
   "execution_count": 12,
   "metadata": {},
   "outputs": [
    {
     "data": {
      "text/html": [
       "<div>\n",
       "<style scoped>\n",
       "    .dataframe tbody tr th:only-of-type {\n",
       "        vertical-align: middle;\n",
       "    }\n",
       "\n",
       "    .dataframe tbody tr th {\n",
       "        vertical-align: top;\n",
       "    }\n",
       "\n",
       "    .dataframe thead th {\n",
       "        text-align: right;\n",
       "    }\n",
       "</style>\n",
       "<table border=\"1\" class=\"dataframe\">\n",
       "  <thead>\n",
       "    <tr style=\"text-align: right;\">\n",
       "      <th></th>\n",
       "      <th>id_medico</th>\n",
       "      <th>id_hospital</th>\n",
       "      <th>id_paciente</th>\n",
       "      <th>data_consulta</th>\n",
       "      <th>hora</th>\n",
       "      <th>consulta_status</th>\n",
       "    </tr>\n",
       "  </thead>\n",
       "  <tbody>\n",
       "    <tr>\n",
       "      <th>0</th>\n",
       "      <td>6566643</td>\n",
       "      <td>56.807.243/0001-90</td>\n",
       "      <td>357.812.064-26</td>\n",
       "      <td>2024-10-11</td>\n",
       "      <td>09:00:00</td>\n",
       "      <td>agendada</td>\n",
       "    </tr>\n",
       "    <tr>\n",
       "      <th>1</th>\n",
       "      <td>5757738</td>\n",
       "      <td>40.678.125/0001-90</td>\n",
       "      <td>546.381.279-91</td>\n",
       "      <td>2024-10-16</td>\n",
       "      <td>15:00:00</td>\n",
       "      <td>agendada</td>\n",
       "    </tr>\n",
       "    <tr>\n",
       "      <th>2</th>\n",
       "      <td>8001092</td>\n",
       "      <td>60.951.748/0001-00</td>\n",
       "      <td>129.457.038-23</td>\n",
       "      <td>2024-06-16</td>\n",
       "      <td>09:00:00</td>\n",
       "      <td>realizada</td>\n",
       "    </tr>\n",
       "    <tr>\n",
       "      <th>3</th>\n",
       "      <td>8509065</td>\n",
       "      <td>60.951.748/0001-00</td>\n",
       "      <td>710.524.986-20</td>\n",
       "      <td>2024-11-01</td>\n",
       "      <td>10:00:00</td>\n",
       "      <td>agendada</td>\n",
       "    </tr>\n",
       "    <tr>\n",
       "      <th>4</th>\n",
       "      <td>8001092</td>\n",
       "      <td>58.143.920/0001-49</td>\n",
       "      <td>741.302.658-90</td>\n",
       "      <td>2024-07-07</td>\n",
       "      <td>16:00:00</td>\n",
       "      <td>realizada</td>\n",
       "    </tr>\n",
       "  </tbody>\n",
       "</table>\n",
       "</div>"
      ],
      "text/plain": [
       "   id_medico         id_hospital     id_paciente data_consulta      hora  \\\n",
       "0    6566643  56.807.243/0001-90  357.812.064-26    2024-10-11  09:00:00   \n",
       "1    5757738  40.678.125/0001-90  546.381.279-91    2024-10-16  15:00:00   \n",
       "2    8001092  60.951.748/0001-00  129.457.038-23    2024-06-16  09:00:00   \n",
       "3    8509065  60.951.748/0001-00  710.524.986-20    2024-11-01  10:00:00   \n",
       "4    8001092  58.143.920/0001-49  741.302.658-90    2024-07-07  16:00:00   \n",
       "\n",
       "  consulta_status  \n",
       "0        agendada  \n",
       "1        agendada  \n",
       "2       realizada  \n",
       "3        agendada  \n",
       "4       realizada  "
      ]
     },
     "execution_count": 12,
     "metadata": {},
     "output_type": "execute_result"
    }
   ],
   "source": [
    "consulta = pd.read_csv(\"../datas/mysql/Consultas.csv\")\n",
    "consulta.head()"
   ]
  },
  {
   "cell_type": "code",
   "execution_count": 15,
   "metadata": {},
   "outputs": [
    {
     "data": {
      "text/html": [
       "<div>\n",
       "<style scoped>\n",
       "    .dataframe tbody tr th:only-of-type {\n",
       "        vertical-align: middle;\n",
       "    }\n",
       "\n",
       "    .dataframe tbody tr th {\n",
       "        vertical-align: top;\n",
       "    }\n",
       "\n",
       "    .dataframe thead th {\n",
       "        text-align: right;\n",
       "    }\n",
       "</style>\n",
       "<table border=\"1\" class=\"dataframe\">\n",
       "  <thead>\n",
       "    <tr style=\"text-align: right;\">\n",
       "      <th></th>\n",
       "      <th>id_medico</th>\n",
       "      <th>id_hospital</th>\n",
       "    </tr>\n",
       "  </thead>\n",
       "  <tbody>\n",
       "    <tr>\n",
       "      <th>0</th>\n",
       "      <td>5757738</td>\n",
       "      <td>42.716.935/0001-19</td>\n",
       "    </tr>\n",
       "    <tr>\n",
       "      <th>1</th>\n",
       "      <td>5757738</td>\n",
       "      <td>49.170.538/0001-33</td>\n",
       "    </tr>\n",
       "    <tr>\n",
       "      <th>2</th>\n",
       "      <td>5757738</td>\n",
       "      <td>42.716.935/0001-19</td>\n",
       "    </tr>\n",
       "    <tr>\n",
       "      <th>3</th>\n",
       "      <td>1650946</td>\n",
       "      <td>40.392.758/0001-37</td>\n",
       "    </tr>\n",
       "    <tr>\n",
       "      <th>4</th>\n",
       "      <td>1396254</td>\n",
       "      <td>56.807.243/0001-90</td>\n",
       "    </tr>\n",
       "  </tbody>\n",
       "</table>\n",
       "</div>"
      ],
      "text/plain": [
       "   id_medico         id_hospital\n",
       "0    5757738  42.716.935/0001-19\n",
       "1    5757738  49.170.538/0001-33\n",
       "2    5757738  42.716.935/0001-19\n",
       "3    1650946  40.392.758/0001-37\n",
       "4    1396254  56.807.243/0001-90"
      ]
     },
     "execution_count": 15,
     "metadata": {},
     "output_type": "execute_result"
    }
   ],
   "source": [
    "trabalha = pd.read_csv(\"../datas/mysql/Trabalha.csv\")\n",
    "trabalha.head()"
   ]
  },
  {
   "cell_type": "markdown",
   "metadata": {},
   "source": [
    "# **Inserção**\n",
    "Aqui, vamos criar um conexão com o GCP e fazer a inserção dos csv's nas tabelas criadas na instância o MySQL."
   ]
  },
  {
   "cell_type": "code",
   "execution_count": 16,
   "metadata": {},
   "outputs": [],
   "source": [
    "db_host = '34.133.195.112'\n",
    "db_user = 'ojoaovborges'\n",
    "db_password = '2702291504'\n",
    "db_name = 'Julia'"
   ]
  },
  {
   "cell_type": "code",
   "execution_count": 17,
   "metadata": {},
   "outputs": [],
   "source": [
    "conn = create_engine(f'mysql+pymysql://{db_user}:{db_password}@{db_host}/{db_name}')"
   ]
  },
  {
   "cell_type": "code",
   "execution_count": 18,
   "metadata": {},
   "outputs": [
    {
     "data": {
      "text/plain": [
       "10"
      ]
     },
     "execution_count": 18,
     "metadata": {},
     "output_type": "execute_result"
    }
   ],
   "source": [
    "hospital.to_sql(con=conn, name='Hospital', if_exists='append', index=False)"
   ]
  },
  {
   "cell_type": "code",
   "execution_count": 19,
   "metadata": {},
   "outputs": [
    {
     "data": {
      "text/plain": [
       "50"
      ]
     },
     "execution_count": 19,
     "metadata": {},
     "output_type": "execute_result"
    }
   ],
   "source": [
    "paciente.to_sql(con=conn, name='Paciente', if_exists='append', index=False)"
   ]
  },
  {
   "cell_type": "code",
   "execution_count": 20,
   "metadata": {},
   "outputs": [
    {
     "data": {
      "text/plain": [
       "20"
      ]
     },
     "execution_count": 20,
     "metadata": {},
     "output_type": "execute_result"
    }
   ],
   "source": [
    "medico.to_sql(con=conn, name='Medico', if_exists='append', index=False)"
   ]
  },
  {
   "cell_type": "code",
   "execution_count": 21,
   "metadata": {},
   "outputs": [
    {
     "data": {
      "text/plain": [
       "133"
      ]
     },
     "execution_count": 21,
     "metadata": {},
     "output_type": "execute_result"
    }
   ],
   "source": [
    "disponibilidade.to_sql(con=conn, name='Disponibilidade', if_exists='append', index=False)"
   ]
  },
  {
   "cell_type": "code",
   "execution_count": 22,
   "metadata": {},
   "outputs": [
    {
     "data": {
      "text/plain": [
       "100"
      ]
     },
     "execution_count": 22,
     "metadata": {},
     "output_type": "execute_result"
    }
   ],
   "source": [
    "consulta.to_sql(con=conn, name='Consulta', if_exists='append', index=False)"
   ]
  },
  {
   "cell_type": "code",
   "execution_count": 23,
   "metadata": {},
   "outputs": [
    {
     "data": {
      "text/plain": [
       "38"
      ]
     },
     "execution_count": 23,
     "metadata": {},
     "output_type": "execute_result"
    }
   ],
   "source": [
    "trabalha.to_sql(con=conn, name='Trabalha', if_exists='append', index=False)"
   ]
  }
 ],
 "metadata": {
  "kernelspec": {
   "display_name": "Python 3",
   "language": "python",
   "name": "python3"
  },
  "language_info": {
   "codemirror_mode": {
    "name": "ipython",
    "version": 3
   },
   "file_extension": ".py",
   "mimetype": "text/x-python",
   "name": "python",
   "nbconvert_exporter": "python",
   "pygments_lexer": "ipython3",
   "version": "3.12.3"
  }
 },
 "nbformat": 4,
 "nbformat_minor": 2
}
